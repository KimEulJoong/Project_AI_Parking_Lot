{
  "nbformat": 4,
  "nbformat_minor": 0,
  "metadata": {
    "colab": {
      "provenance": [],
      "gpuType": "T4",
      "include_colab_link": true
    },
    "kernelspec": {
      "name": "python3",
      "display_name": "Python 3"
    },
    "language_info": {
      "name": "python"
    },
    "accelerator": "GPU"
  },
  "cells": [
    {
      "cell_type": "markdown",
      "metadata": {
        "id": "view-in-github",
        "colab_type": "text"
      },
      "source": [
        "<a href=\"https://colab.research.google.com/github/KimEulJoong/Project_AI_Parking_Lot/blob/CRNN_OCR/AI_CRNN_OCR.ipynb\" target=\"_parent\"><img src=\"https://colab.research.google.com/assets/colab-badge.svg\" alt=\"Open In Colab\"/></a>"
      ]
    },
    {
      "cell_type": "code",
      "execution_count": 1,
      "metadata": {
        "id": "QggN0pTbeQfw",
        "outputId": "12717669-5f6b-44bb-e6e0-6e55d779bde1",
        "colab": {
          "base_uri": "https://localhost:8080/"
        }
      },
      "outputs": [
        {
          "output_type": "stream",
          "name": "stdout",
          "text": [
            "\u001b[2K   \u001b[90m━━━━━━━━━━━━━━━━━━━━━━━━━━━━━━━━━━━━━━━━\u001b[0m \u001b[32m363.4/363.4 MB\u001b[0m \u001b[31m4.3 MB/s\u001b[0m eta \u001b[36m0:00:00\u001b[0m\n",
            "\u001b[2K   \u001b[90m━━━━━━━━━━━━━━━━━━━━━━━━━━━━━━━━━━━━━━━━\u001b[0m \u001b[32m13.8/13.8 MB\u001b[0m \u001b[31m49.3 MB/s\u001b[0m eta \u001b[36m0:00:00\u001b[0m\n",
            "\u001b[2K   \u001b[90m━━━━━━━━━━━━━━━━━━━━━━━━━━━━━━━━━━━━━━━━\u001b[0m \u001b[32m24.6/24.6 MB\u001b[0m \u001b[31m33.5 MB/s\u001b[0m eta \u001b[36m0:00:00\u001b[0m\n",
            "\u001b[2K   \u001b[90m━━━━━━━━━━━━━━━━━━━━━━━━━━━━━━━━━━━━━━━━\u001b[0m \u001b[32m883.7/883.7 kB\u001b[0m \u001b[31m46.8 MB/s\u001b[0m eta \u001b[36m0:00:00\u001b[0m\n",
            "\u001b[2K   \u001b[90m━━━━━━━━━━━━━━━━━━━━━━━━━━━━━━━━━━━━━━━━\u001b[0m \u001b[32m664.8/664.8 MB\u001b[0m \u001b[31m2.7 MB/s\u001b[0m eta \u001b[36m0:00:00\u001b[0m\n",
            "\u001b[2K   \u001b[90m━━━━━━━━━━━━━━━━━━━━━━━━━━━━━━━━━━━━━━━━\u001b[0m \u001b[32m211.5/211.5 MB\u001b[0m \u001b[31m5.2 MB/s\u001b[0m eta \u001b[36m0:00:00\u001b[0m\n",
            "\u001b[2K   \u001b[90m━━━━━━━━━━━━━━━━━━━━━━━━━━━━━━━━━━━━━━━━\u001b[0m \u001b[32m56.3/56.3 MB\u001b[0m \u001b[31m12.8 MB/s\u001b[0m eta \u001b[36m0:00:00\u001b[0m\n",
            "\u001b[2K   \u001b[90m━━━━━━━━━━━━━━━━━━━━━━━━━━━━━━━━━━━━━━━━\u001b[0m \u001b[32m127.9/127.9 MB\u001b[0m \u001b[31m7.6 MB/s\u001b[0m eta \u001b[36m0:00:00\u001b[0m\n",
            "\u001b[2K   \u001b[90m━━━━━━━━━━━━━━━━━━━━━━━━━━━━━━━━━━━━━━━━\u001b[0m \u001b[32m207.5/207.5 MB\u001b[0m \u001b[31m5.6 MB/s\u001b[0m eta \u001b[36m0:00:00\u001b[0m\n",
            "\u001b[2K   \u001b[90m━━━━━━━━━━━━━━━━━━━━━━━━━━━━━━━━━━━━━━━━\u001b[0m \u001b[32m21.1/21.1 MB\u001b[0m \u001b[31m42.4 MB/s\u001b[0m eta \u001b[36m0:00:00\u001b[0m\n",
            "\u001b[2K   \u001b[90m━━━━━━━━━━━━━━━━━━━━━━━━━━━━━━━━━━━━━━━━\u001b[0m \u001b[32m292.9/292.9 kB\u001b[0m \u001b[31m8.6 MB/s\u001b[0m eta \u001b[36m0:00:00\u001b[0m\n",
            "\u001b[?25h"
          ]
        }
      ],
      "source": [
        "!pip install torch torchvision torchaudio --quiet\n",
        "!pip install matplotlib opencv-python python-bidi arabic-reshaper --quiet\n",
        "!pip install tqdm --quiet"
      ]
    },
    {
      "cell_type": "code",
      "source": [
        "from google.colab import drive\n",
        "import zipfile\n",
        "import os\n",
        "\n",
        "# 1. 구글 드라이브 마운트 (처음 한 번만 실행)\n",
        "drive.mount('/content/drive')\n",
        "\n",
        "# 2. 압축파일 경로 지정\n",
        "zip_path = '/content/drive/MyDrive/OnDevice_AI/car_num.zip'  # 경로는 상황에 맞게 바꾸세요\n",
        "\n",
        "# 3. 압축을 풀 폴더 경로 지정\n",
        "extract_folder = '/content/drive/MyDrive/OnDevice_AI/car_num_unzip'\n",
        "\n",
        "# 4. 압축 풀기\n",
        "with zipfile.ZipFile(zip_path, 'r') as zip_ref:\n",
        "    zip_ref.extractall(extract_folder)\n",
        "\n",
        "print(\"압축 해제 완료:\", extract_folder)"
      ],
      "metadata": {
        "colab": {
          "base_uri": "https://localhost:8080/"
        },
        "id": "7wDcgesqjbP9",
        "outputId": "e7c1e135-593b-47ed-d731-a66b18774cda"
      },
      "execution_count": 2,
      "outputs": [
        {
          "output_type": "stream",
          "name": "stdout",
          "text": [
            "Mounted at /content/drive\n",
            "압축 해제 완료: /content/drive/MyDrive/OnDevice_AI/car_num_unzip\n"
          ]
        }
      ]
    },
    {
      "cell_type": "code",
      "source": [
        "import os\n",
        "\n",
        "image_dir = \"/content/drive/MyDrive/OnDevice_AI/car_num_unzip/car_num/car_num_img\"\n",
        "json_dir = \"/content/drive/MyDrive/OnDevice_AI/car_num_unzip/car_num/car_num_json\""
      ],
      "metadata": {
        "id": "q53ufVeFeiIe"
      },
      "execution_count": 3,
      "outputs": []
    },
    {
      "cell_type": "code",
      "source": [
        "import json\n",
        "import cv2\n",
        "import torch\n",
        "from torch.utils.data import Dataset\n",
        "from torchvision import transforms\n",
        "import numpy as np\n",
        "from PIL import Image\n",
        "import torch.nn as nn\n",
        "\n",
        "transform = transforms.Compose([\n",
        "    transforms.Resize((32, 100)),\n",
        "    transforms.RandomApply([\n",
        "        transforms.RandomRotation(2),                    # 글자 왜곡을 유발할 수 있으므로 2~3도 낮춤.\n",
        "        transforms.RandomAffine(degrees=0, translate=(0.02, 0.02)),  # 미세한 이동\n",
        "        transforms.GaussianBlur(kernel_size=1),          # 약간의 블러\n",
        "        transforms.ColorJitter(brightness=0.2, contrast=0.2),  # 밝기/대비 변화\n",
        "    ], p=0.5),\n",
        "    transforms.ToTensor(),\n",
        "    transforms.Normalize((0.5,), (0.5,))\n",
        "])\n",
        "\n",
        "class EarlyStopping:\n",
        "    def __init__(self, patience=10, verbose=True):\n",
        "        self.patience = patience\n",
        "        self.best_loss = float('inf')\n",
        "        self.counter = 0\n",
        "        self.early_stop = False\n",
        "        self.verbose = verbose\n",
        "\n",
        "    def __call__(self, val_loss):\n",
        "        if val_loss < self.best_loss:\n",
        "            self.best_loss = val_loss\n",
        "            self.counter = 0\n",
        "        else:\n",
        "            self.counter += 1\n",
        "            if self.verbose:\n",
        "                print(f\"  🔁 No improvement ({self.counter}/{self.patience})\")\n",
        "            if self.counter >= self.patience:\n",
        "                self.early_stop = True\n",
        "\n",
        "class OCRDataset(Dataset):\n",
        "    def __init__(self, image_dir, json_dir, transform=transform):\n",
        "        self.image_dir = image_dir\n",
        "        self.samples = []\n",
        "        self.transform = transform\n",
        "\n",
        "        for file_name in os.listdir(json_dir):\n",
        "            if not file_name.endswith(\".json\"):\n",
        "                continue\n",
        "            with open(os.path.join(json_dir, file_name), \"r\", encoding=\"utf-8\") as f:\n",
        "                data = json.load(f)\n",
        "                image_path = os.path.join(image_dir, data[\"imagePath\"])\n",
        "                label = data[\"value\"]\n",
        "                if os.path.exists(image_path):\n",
        "                    self.samples.append((image_path, label))\n",
        "\n",
        "        # 문자 집합 구성\n",
        "        self.charset = sorted(set(char for _, label in self.samples for char in label))\n",
        "        self.char2idx = {char: idx + 1 for idx, char in enumerate(self.charset)}  # 0 = blank for CTC\n",
        "        self.idx2char = {idx: char for char, idx in self.char2idx.items()}\n",
        "\n",
        "    def __len__(self):\n",
        "        return len(self.samples)\n",
        "\n",
        "    def __getitem__(self, idx):\n",
        "        image_path, label = self.samples[idx]\n",
        "\n",
        "        # OpenCV로 읽기 (그레이스케일)\n",
        "        image = cv2.imread(image_path, cv2.IMREAD_GRAYSCALE)\n",
        "\n",
        "        if image is None:\n",
        "            print(f\"⚠️ 이미지 로딩 실패: {image_path}\")\n",
        "            # 더미 이미지 (32x100 흰색) 반환하고, label은 공백 처리\n",
        "            dummy_image = Image.fromarray(np.ones((32, 100), dtype=np.uint8) * 255)\n",
        "            if self.transform:\n",
        "                dummy_image = self.transform(dummy_image)\n",
        "            return dummy_image, torch.tensor([], dtype=torch.long), \"\"\n",
        "\n",
        "        # numpy -> PIL.Image 변환\n",
        "        image = Image.fromarray(image)\n",
        "\n",
        "        # transform이 있다면 적용\n",
        "        if self.transform:\n",
        "            image = self.transform(image)\n",
        "\n",
        "        label_idx = [self.char2idx[char] for char in label]\n",
        "        return image, torch.tensor(label_idx, dtype=torch.long), label\n",
        "\n",
        "\n",
        "    def decode(self, preds):\n",
        "        # greedy decoding\n",
        "        pred_text = ''\n",
        "        prev_idx = -1\n",
        "        for idx in preds:\n",
        "            if idx != prev_idx and idx != 0:\n",
        "                pred_text += self.idx2char.get(idx.item(), '')\n",
        "            prev_idx = idx\n",
        "        return pred_text"
      ],
      "metadata": {
        "id": "z1eYRuoHeiK8"
      },
      "execution_count": 4,
      "outputs": []
    },
    {
      "cell_type": "code",
      "source": [
        "class CRNN(nn.Module):\n",
        "    def __init__(self, num_classes):\n",
        "        super(CRNN, self).__init__()\n",
        "        self.cnn = nn.Sequential(\n",
        "            nn.Conv2d(1, 64, 3, 1, 1), nn.ReLU(), nn.MaxPool2d(2, 2),\n",
        "            nn.Conv2d(64, 128, 3, 1, 1), nn.ReLU(), nn.MaxPool2d(2, 2),\n",
        "            nn.Conv2d(128, 256, 3, 1, 1), nn.ReLU(),\n",
        "            nn.Conv2d(256, 256, 3, 1, 1), nn.ReLU(), nn.MaxPool2d((2, 1), (2, 1)),\n",
        "            nn.Conv2d(256, 512, 3, 1, 1), nn.BatchNorm2d(512), nn.ReLU(),\n",
        "            nn.Conv2d(512, 512, 3, 1, 1), nn.BatchNorm2d(512), nn.ReLU(), nn.MaxPool2d((2, 1), (2, 1)),\n",
        "            nn.Conv2d(512, 512, 2, 1, 0), nn.ReLU()  # output: [B, 512, 1, W]\n",
        "        )\n",
        "\n",
        "        self.rnn1 = nn.LSTM(512, 512, bidirectional=True, batch_first=True)   #원래는 512, 256\n",
        "        self.rnn2 = nn.LSTM(1024, 512, bidirectional=True, batch_first=True)   #원래는 512 256\n",
        "        self.fc = nn.Linear(1024, num_classes)                                 #원래는 512\n",
        "\n",
        "    def forward(self, x):\n",
        "        x = self.cnn(x)\n",
        "        b, c, h, w = x.size()\n",
        "        assert h == 1, f\"Expected height=1, got {h}\"\n",
        "        x = x.squeeze(2).permute(0, 2, 1)  # [B, W, C]\n",
        "\n",
        "        x, _ = self.rnn1(x)\n",
        "        x, _ = self.rnn2(x)\n",
        "\n",
        "        x = self.fc(x)                    # [B, W, C]\n",
        "        x = x.permute(1, 0, 2)            # [W, B, C] = [T, B, C]   T = timescale, B = batch size, C = class amount(0,9, 가 하..+CTC Blank 포함 )\n",
        "        return x"
      ],
      "metadata": {
        "id": "0APAnsAveiNU"
      },
      "execution_count": 5,
      "outputs": []
    },
    {
      "cell_type": "code",
      "source": [
        "from torch.nn import CTCLoss\n",
        "from torch.utils.data import DataLoader, random_split\n",
        "from torch.optim import Adam\n",
        "from tqdm import tqdm\n",
        "from google.colab import drive\n",
        "drive.mount('/content/drive')\n",
        "\n",
        "\n",
        "def custom_collate(batch):\n",
        "    images, labels_idx, labels_str = zip(*batch)\n",
        "    images = torch.stack(images)  # (B, C, H, W)\n",
        "\n",
        "    # labels_idx는 리스트 안에 각 샘플 라벨 텐서\n",
        "    targets = torch.cat(labels_idx)  # concat all target sequences\n",
        "\n",
        "    target_lengths = torch.tensor([len(label) for label in labels_idx], dtype=torch.long)\n",
        "\n",
        "    return images, targets, target_lengths, labels_str\n",
        "\n",
        "\n",
        "dataset = OCRDataset(image_dir, json_dir)\n",
        "train_size = int(0.8 * len(dataset))\n",
        "val_size = len(dataset) - train_size\n",
        "train_dataset, val_dataset = random_split(dataset, [train_size, val_size])\n",
        "train_loader = DataLoader(train_dataset, batch_size=16, shuffle=True, collate_fn=custom_collate)\n",
        "val_loader = DataLoader(val_dataset, batch_size=16, shuffle=False, collate_fn=custom_collate)\n",
        "\n",
        "\n",
        "model = CRNN(num_classes=len(dataset.char2idx) + 1)  # +1 for CTC blank\n",
        "device = torch.device(\"cuda\" if torch.cuda.is_available() else \"cpu\")\n",
        "model.to(device)\n",
        "\n",
        "charset = ['0', '1', '2', '3', '4', '5', '6', '7', '8', '9', '가', '나', '다']  # 실제 문자들\n",
        "char2idx = dataset.char2idx\n",
        "idx_to_char = {idx: char for char, idx in char2idx.items()}\n",
        "\n",
        "criterion = CTCLoss(blank=0, zero_infinity=True)\n",
        "optimizer = Adam(model.parameters(), lr=0.0005)"
      ],
      "metadata": {
        "colab": {
          "base_uri": "https://localhost:8080/"
        },
        "id": "F6Wpet5UeiPs",
        "outputId": "53c4603e-38b1-41a9-b2ce-18386ba2bfd9"
      },
      "execution_count": 6,
      "outputs": [
        {
          "output_type": "stream",
          "name": "stdout",
          "text": [
            "Drive already mounted at /content/drive; to attempt to forcibly remount, call drive.mount(\"/content/drive\", force_remount=True).\n"
          ]
        }
      ]
    },
    {
      "cell_type": "code",
      "source": [
        "def evaluate_model(model, dataloader, criterion, idx_to_char, device):\n",
        "    model.eval()\n",
        "    total_loss = 0\n",
        "    total_chars = 0\n",
        "    correct_chars = 0\n",
        "    y_true = []\n",
        "    y_pred = []\n",
        "\n",
        "    with torch.no_grad():\n",
        "        for images, targets, target_lengths, _ in dataloader:\n",
        "            images = images.to(device)\n",
        "            targets = targets.to(device)\n",
        "            target_lengths = target_lengths.to(device)\n",
        "\n",
        "            outputs = model(images)\n",
        "            input_lengths = torch.full(size=(images.size(0),), fill_value=outputs.size(0), dtype=torch.long)\n",
        "\n",
        "            outputs_log_softmax = outputs.log_softmax(2)\n",
        "            loss = criterion(outputs_log_softmax, targets, input_lengths, target_lengths)\n",
        "            total_loss += loss.item()\n",
        "\n",
        "            # 여기서 디코딩은 배치 사이즈가 1일 때랑 다르게 처리해야 함.\n",
        "            # 일단 배치 1개씩 처리하는 예시:\n",
        "\n",
        "            for b in range(images.size(0)):\n",
        "                preds = torch.argmax(outputs[:, b, :], dim=1).cpu().numpy().tolist()\n",
        "\n",
        "                decoded = []\n",
        "                prev = -1\n",
        "                for p in preds:\n",
        "                    if p != prev and p != 0:\n",
        "                        decoded.append(p)\n",
        "                    prev = p\n",
        "                pred_text = ''.join([idx_to_char[i] for i in decoded])\n",
        "\n",
        "                start_idx = sum(target_lengths[:b])\n",
        "                end_idx = start_idx + target_lengths[b].item()\n",
        "                true_text = ''.join([idx_to_char[i.item()] for i in targets[start_idx:end_idx]])\n",
        "\n",
        "                min_len = min(len(pred_text), len(true_text))\n",
        "                correct_chars += sum([pred_text[i] == true_text[i] for i in range(min_len)])\n",
        "                total_chars += len(true_text)\n",
        "\n",
        "                for t_char, p_char in zip(true_text, pred_text):\n",
        "                    y_true.append(t_char)\n",
        "                    y_pred.append(p_char)\n",
        "\n",
        "    acc = correct_chars / total_chars if total_chars else 0\n",
        "    prec = precision_score(y_true, y_pred, average='micro', zero_division=0)\n",
        "    rec = recall_score(y_true, y_pred, average='micro', zero_division=0)\n",
        "\n",
        "    return total_loss, acc, prec, rec"
      ],
      "metadata": {
        "id": "gJkD5QOZRDqt"
      },
      "execution_count": 7,
      "outputs": []
    },
    {
      "cell_type": "code",
      "source": [
        "from torch.optim.lr_scheduler import ReduceLROnPlateau\n",
        "from sklearn.metrics import precision_score, recall_score\n",
        "\n",
        "def pad_labels(labels):\n",
        "    max_len = max(len(label) for label in labels)\n",
        "    padded = torch.zeros(len(labels), max_len, dtype=torch.long)\n",
        "    for i, label in enumerate(labels):\n",
        "        padded[i, :len(label)] = label\n",
        "    return padded\n",
        "\n",
        "# 에폭마다 기록된 값들을 저장할 리스트\n",
        "train_losses = []\n",
        "val_losses = []\n",
        "val_accuracies = []\n",
        "val_precisions = []\n",
        "val_recalls = []\n",
        "\n",
        "scheduler = ReduceLROnPlateau(optimizer, mode='min', factor=0.5, patience=5, verbose=True)\n",
        "early_stopping = EarlyStopping(patience=15)  # 원하는 patience 설정\n",
        "\n",
        "\n",
        "for epoch in range(200):\n",
        "    model.train()\n",
        "    total_loss = 0\n",
        "\n",
        "    for batch in tqdm(train_loader):\n",
        "        images, targets, target_lengths, _ = batch\n",
        "        images = images.to(device)\n",
        "        targets = targets.to(device)\n",
        "        target_lengths = target_lengths.to(device)\n",
        "\n",
        "        optimizer.zero_grad()\n",
        "        outputs = model(images)\n",
        "        input_lengths = torch.full(size=(images.size(0),), fill_value=outputs.size(0), dtype=torch.long)\n",
        "\n",
        "        loss = criterion(outputs, targets, input_lengths, target_lengths)\n",
        "        loss.backward()\n",
        "        optimizer.step()\n",
        "        total_loss += loss.item()\n",
        "\n",
        "    val_loss, val_acc, val_prec, val_rec = evaluate_model(model, val_loader, criterion, idx_to_char, device)\n",
        "\n",
        "    # 결과 저장\n",
        "    train_losses.append(total_loss)\n",
        "    val_losses.append(val_loss)\n",
        "    val_accuracies.append(val_acc)\n",
        "    val_precisions.append(val_prec)\n",
        "    val_recalls.append(val_rec)\n",
        "\n",
        "    print(f\"[Epoch {epoch+1}] Train Loss: {total_loss:.4f} | Val Loss: {val_loss:.4f} | Acc: {val_acc:.4f} | Precision: {val_prec:.4f} | Recall: {val_rec:.4f}\")\n",
        "\n",
        "    # 🔽 학습률 자동 감소\n",
        "    scheduler.step(val_loss)\n",
        "\n",
        "    # ⏹️ 조기 종료 체크\n",
        "    early_stopping(val_loss)\n",
        "    if early_stopping.early_stop:\n",
        "        print(\"🛑 Early stopping triggered\")\n",
        "        break\n"
      ],
      "metadata": {
        "id": "heHbrEameiSP",
        "outputId": "814ec30c-a819-4c6f-b991-035240716045",
        "colab": {
          "base_uri": "https://localhost:8080/"
        }
      },
      "execution_count": 8,
      "outputs": [
        {
          "output_type": "stream",
          "name": "stderr",
          "text": [
            "/usr/local/lib/python3.11/dist-packages/torch/optim/lr_scheduler.py:62: UserWarning: The verbose parameter is deprecated. Please use get_last_lr() to access the learning rate.\n",
            "  warnings.warn(\n",
            "100%|██████████| 108/108 [00:16<00:00,  6.55it/s]\n"
          ]
        },
        {
          "output_type": "stream",
          "name": "stdout",
          "text": [
            "[Epoch 1] Train Loss: 329.5030 | Val Loss: 81.6990 | Acc: 0.0000 | Precision: 0.0000 | Recall: 0.0000\n"
          ]
        },
        {
          "output_type": "stream",
          "name": "stderr",
          "text": [
            "100%|██████████| 108/108 [00:15<00:00,  7.12it/s]\n"
          ]
        },
        {
          "output_type": "stream",
          "name": "stdout",
          "text": [
            "[Epoch 2] Train Loss: 319.5239 | Val Loss: 78.4482 | Acc: 0.0689 | Precision: 0.4825 | Recall: 0.4825\n"
          ]
        },
        {
          "output_type": "stream",
          "name": "stderr",
          "text": [
            "100%|██████████| 108/108 [00:15<00:00,  6.83it/s]\n"
          ]
        },
        {
          "output_type": "stream",
          "name": "stdout",
          "text": [
            "[Epoch 3] Train Loss: 311.2322 | Val Loss: 77.7782 | Acc: 0.1072 | Precision: 0.3753 | Recall: 0.3753\n"
          ]
        },
        {
          "output_type": "stream",
          "name": "stderr",
          "text": [
            "100%|██████████| 108/108 [00:15<00:00,  7.11it/s]\n"
          ]
        },
        {
          "output_type": "stream",
          "name": "stdout",
          "text": [
            "[Epoch 4] Train Loss: 308.2032 | Val Loss: 76.5493 | Acc: 0.1072 | Precision: 0.3753 | Recall: 0.3753\n"
          ]
        },
        {
          "output_type": "stream",
          "name": "stderr",
          "text": [
            "100%|██████████| 108/108 [00:14<00:00,  7.26it/s]\n"
          ]
        },
        {
          "output_type": "stream",
          "name": "stdout",
          "text": [
            "[Epoch 5] Train Loss: 302.7108 | Val Loss: 74.7799 | Acc: 0.1072 | Precision: 0.3753 | Recall: 0.3753\n"
          ]
        },
        {
          "output_type": "stream",
          "name": "stderr",
          "text": [
            "100%|██████████| 108/108 [00:15<00:00,  7.16it/s]\n"
          ]
        },
        {
          "output_type": "stream",
          "name": "stdout",
          "text": [
            "[Epoch 6] Train Loss: 286.4514 | Val Loss: 70.2271 | Acc: 0.1072 | Precision: 0.2502 | Recall: 0.2502\n"
          ]
        },
        {
          "output_type": "stream",
          "name": "stderr",
          "text": [
            "100%|██████████| 108/108 [00:15<00:00,  6.92it/s]\n"
          ]
        },
        {
          "output_type": "stream",
          "name": "stdout",
          "text": [
            "[Epoch 7] Train Loss: 276.5013 | Val Loss: 68.7107 | Acc: 0.1072 | Precision: 0.2502 | Recall: 0.2502\n"
          ]
        },
        {
          "output_type": "stream",
          "name": "stderr",
          "text": [
            "100%|██████████| 108/108 [00:15<00:00,  7.11it/s]\n"
          ]
        },
        {
          "output_type": "stream",
          "name": "stdout",
          "text": [
            "[Epoch 8] Train Loss: 271.8260 | Val Loss: 67.3803 | Acc: 0.1195 | Precision: 0.2092 | Recall: 0.2092\n"
          ]
        },
        {
          "output_type": "stream",
          "name": "stderr",
          "text": [
            "100%|██████████| 108/108 [00:15<00:00,  7.19it/s]\n"
          ]
        },
        {
          "output_type": "stream",
          "name": "stdout",
          "text": [
            "[Epoch 9] Train Loss: 268.4476 | Val Loss: 66.3502 | Acc: 0.1322 | Precision: 0.1851 | Recall: 0.1851\n"
          ]
        },
        {
          "output_type": "stream",
          "name": "stderr",
          "text": [
            "100%|██████████| 108/108 [00:14<00:00,  7.37it/s]\n"
          ]
        },
        {
          "output_type": "stream",
          "name": "stdout",
          "text": [
            "[Epoch 10] Train Loss: 265.4934 | Val Loss: 66.7037 | Acc: 0.1399 | Precision: 0.1958 | Recall: 0.1958\n",
            "  🔁 No improvement (1/15)\n"
          ]
        },
        {
          "output_type": "stream",
          "name": "stderr",
          "text": [
            "100%|██████████| 108/108 [00:14<00:00,  7.37it/s]\n"
          ]
        },
        {
          "output_type": "stream",
          "name": "stdout",
          "text": [
            "[Epoch 11] Train Loss: 253.9115 | Val Loss: 62.1370 | Acc: 0.0936 | Precision: 0.1310 | Recall: 0.1310\n"
          ]
        },
        {
          "output_type": "stream",
          "name": "stderr",
          "text": [
            "100%|██████████| 108/108 [00:17<00:00,  6.20it/s]\n"
          ]
        },
        {
          "output_type": "stream",
          "name": "stdout",
          "text": [
            "[Epoch 12] Train Loss: 250.5390 | Val Loss: 62.0812 | Acc: 0.1029 | Precision: 0.1441 | Recall: 0.1441\n"
          ]
        },
        {
          "output_type": "stream",
          "name": "stderr",
          "text": [
            "100%|██████████| 108/108 [00:14<00:00,  7.39it/s]\n"
          ]
        },
        {
          "output_type": "stream",
          "name": "stdout",
          "text": [
            "[Epoch 13] Train Loss: 249.0869 | Val Loss: 62.1300 | Acc: 0.1658 | Precision: 0.1935 | Recall: 0.1935\n",
            "  🔁 No improvement (1/15)\n"
          ]
        },
        {
          "output_type": "stream",
          "name": "stderr",
          "text": [
            "100%|██████████| 108/108 [00:14<00:00,  7.46it/s]\n"
          ]
        },
        {
          "output_type": "stream",
          "name": "stdout",
          "text": [
            "[Epoch 14] Train Loss: 250.2048 | Val Loss: 62.2886 | Acc: 0.0956 | Precision: 0.1338 | Recall: 0.1338\n",
            "  🔁 No improvement (2/15)\n"
          ]
        },
        {
          "output_type": "stream",
          "name": "stderr",
          "text": [
            "100%|██████████| 108/108 [00:14<00:00,  7.38it/s]\n"
          ]
        },
        {
          "output_type": "stream",
          "name": "stdout",
          "text": [
            "[Epoch 15] Train Loss: 249.4675 | Val Loss: 61.9741 | Acc: 0.1029 | Precision: 0.1441 | Recall: 0.1441\n"
          ]
        },
        {
          "output_type": "stream",
          "name": "stderr",
          "text": [
            "100%|██████████| 108/108 [00:14<00:00,  7.41it/s]\n"
          ]
        },
        {
          "output_type": "stream",
          "name": "stdout",
          "text": [
            "[Epoch 16] Train Loss: 249.9923 | Val Loss: 62.3290 | Acc: 0.1662 | Precision: 0.1939 | Recall: 0.1939\n",
            "  🔁 No improvement (1/15)\n"
          ]
        },
        {
          "output_type": "stream",
          "name": "stderr",
          "text": [
            "100%|██████████| 108/108 [00:14<00:00,  7.24it/s]\n"
          ]
        },
        {
          "output_type": "stream",
          "name": "stdout",
          "text": [
            "[Epoch 17] Train Loss: 247.1819 | Val Loss: 61.1886 | Acc: 0.2078 | Precision: 0.2424 | Recall: 0.2424\n"
          ]
        },
        {
          "output_type": "stream",
          "name": "stderr",
          "text": [
            "100%|██████████| 108/108 [00:14<00:00,  7.27it/s]\n"
          ]
        },
        {
          "output_type": "stream",
          "name": "stdout",
          "text": [
            "[Epoch 18] Train Loss: 242.2582 | Val Loss: 65.0819 | Acc: 0.1525 | Precision: 0.1783 | Recall: 0.1783\n",
            "  🔁 No improvement (1/15)\n"
          ]
        },
        {
          "output_type": "stream",
          "name": "stderr",
          "text": [
            "100%|██████████| 108/108 [00:14<00:00,  7.39it/s]\n"
          ]
        },
        {
          "output_type": "stream",
          "name": "stdout",
          "text": [
            "[Epoch 19] Train Loss: 237.7669 | Val Loss: 66.6778 | Acc: 0.2005 | Precision: 0.2331 | Recall: 0.2331\n",
            "  🔁 No improvement (2/15)\n"
          ]
        },
        {
          "output_type": "stream",
          "name": "stderr",
          "text": [
            "100%|██████████| 108/108 [00:15<00:00,  7.16it/s]\n"
          ]
        },
        {
          "output_type": "stream",
          "name": "stdout",
          "text": [
            "[Epoch 20] Train Loss: 234.7432 | Val Loss: 58.6130 | Acc: 0.2361 | Precision: 0.2813 | Recall: 0.2813\n"
          ]
        },
        {
          "output_type": "stream",
          "name": "stderr",
          "text": [
            "100%|██████████| 108/108 [00:14<00:00,  7.34it/s]\n"
          ]
        },
        {
          "output_type": "stream",
          "name": "stdout",
          "text": [
            "[Epoch 21] Train Loss: 234.1781 | Val Loss: 57.8138 | Acc: 0.2641 | Precision: 0.3084 | Recall: 0.3084\n"
          ]
        },
        {
          "output_type": "stream",
          "name": "stderr",
          "text": [
            "100%|██████████| 108/108 [00:14<00:00,  7.41it/s]\n"
          ]
        },
        {
          "output_type": "stream",
          "name": "stdout",
          "text": [
            "[Epoch 22] Train Loss: 231.6977 | Val Loss: 57.3682 | Acc: 0.2567 | Precision: 0.3000 | Recall: 0.3000\n"
          ]
        },
        {
          "output_type": "stream",
          "name": "stderr",
          "text": [
            "100%|██████████| 108/108 [00:14<00:00,  7.39it/s]\n"
          ]
        },
        {
          "output_type": "stream",
          "name": "stdout",
          "text": [
            "[Epoch 23] Train Loss: 229.2468 | Val Loss: 56.9631 | Acc: 0.2601 | Precision: 0.3040 | Recall: 0.3040\n"
          ]
        },
        {
          "output_type": "stream",
          "name": "stderr",
          "text": [
            "100%|██████████| 108/108 [00:14<00:00,  7.43it/s]\n"
          ]
        },
        {
          "output_type": "stream",
          "name": "stdout",
          "text": [
            "[Epoch 24] Train Loss: 226.4536 | Val Loss: 56.1546 | Acc: 0.2787 | Precision: 0.3262 | Recall: 0.3262\n"
          ]
        },
        {
          "output_type": "stream",
          "name": "stderr",
          "text": [
            "100%|██████████| 108/108 [00:14<00:00,  7.42it/s]\n"
          ]
        },
        {
          "output_type": "stream",
          "name": "stdout",
          "text": [
            "[Epoch 25] Train Loss: 224.3319 | Val Loss: 58.3372 | Acc: 0.2448 | Precision: 0.2880 | Recall: 0.2880\n",
            "  🔁 No improvement (1/15)\n"
          ]
        },
        {
          "output_type": "stream",
          "name": "stderr",
          "text": [
            "100%|██████████| 108/108 [00:14<00:00,  7.26it/s]\n"
          ]
        },
        {
          "output_type": "stream",
          "name": "stdout",
          "text": [
            "[Epoch 26] Train Loss: 222.2868 | Val Loss: 56.1566 | Acc: 0.2727 | Precision: 0.3181 | Recall: 0.3181\n",
            "  🔁 No improvement (2/15)\n"
          ]
        },
        {
          "output_type": "stream",
          "name": "stderr",
          "text": [
            "100%|██████████| 108/108 [00:14<00:00,  7.42it/s]\n"
          ]
        },
        {
          "output_type": "stream",
          "name": "stdout",
          "text": [
            "[Epoch 27] Train Loss: 221.4404 | Val Loss: 55.2359 | Acc: 0.3017 | Precision: 0.3445 | Recall: 0.3445\n"
          ]
        },
        {
          "output_type": "stream",
          "name": "stderr",
          "text": [
            "100%|██████████| 108/108 [00:14<00:00,  7.45it/s]\n"
          ]
        },
        {
          "output_type": "stream",
          "name": "stdout",
          "text": [
            "[Epoch 28] Train Loss: 219.2927 | Val Loss: 54.8510 | Acc: 0.2804 | Precision: 0.3274 | Recall: 0.3274\n"
          ]
        },
        {
          "output_type": "stream",
          "name": "stderr",
          "text": [
            "100%|██████████| 108/108 [00:14<00:00,  7.38it/s]\n"
          ]
        },
        {
          "output_type": "stream",
          "name": "stdout",
          "text": [
            "[Epoch 29] Train Loss: 217.7787 | Val Loss: 54.0122 | Acc: 0.3060 | Precision: 0.3505 | Recall: 0.3505\n"
          ]
        },
        {
          "output_type": "stream",
          "name": "stderr",
          "text": [
            "100%|██████████| 108/108 [00:14<00:00,  7.38it/s]\n"
          ]
        },
        {
          "output_type": "stream",
          "name": "stdout",
          "text": [
            "[Epoch 30] Train Loss: 215.6746 | Val Loss: 53.3616 | Acc: 0.3067 | Precision: 0.3522 | Recall: 0.3522\n"
          ]
        },
        {
          "output_type": "stream",
          "name": "stderr",
          "text": [
            "100%|██████████| 108/108 [00:14<00:00,  7.41it/s]\n"
          ]
        },
        {
          "output_type": "stream",
          "name": "stdout",
          "text": [
            "[Epoch 31] Train Loss: 212.1872 | Val Loss: 52.7439 | Acc: 0.3097 | Precision: 0.3525 | Recall: 0.3525\n"
          ]
        },
        {
          "output_type": "stream",
          "name": "stderr",
          "text": [
            "100%|██████████| 108/108 [00:14<00:00,  7.52it/s]\n"
          ]
        },
        {
          "output_type": "stream",
          "name": "stdout",
          "text": [
            "[Epoch 32] Train Loss: 208.6392 | Val Loss: 50.5364 | Acc: 0.3400 | Precision: 0.3596 | Recall: 0.3596\n"
          ]
        },
        {
          "output_type": "stream",
          "name": "stderr",
          "text": [
            "100%|██████████| 108/108 [00:14<00:00,  7.32it/s]\n"
          ]
        },
        {
          "output_type": "stream",
          "name": "stdout",
          "text": [
            "[Epoch 33] Train Loss: 195.8500 | Val Loss: 49.5685 | Acc: 0.3247 | Precision: 0.3305 | Recall: 0.3305\n"
          ]
        },
        {
          "output_type": "stream",
          "name": "stderr",
          "text": [
            "100%|██████████| 108/108 [00:14<00:00,  7.29it/s]\n"
          ]
        },
        {
          "output_type": "stream",
          "name": "stdout",
          "text": [
            "[Epoch 34] Train Loss: 191.1991 | Val Loss: 49.1035 | Acc: 0.3616 | Precision: 0.3690 | Recall: 0.3690\n"
          ]
        },
        {
          "output_type": "stream",
          "name": "stderr",
          "text": [
            "100%|██████████| 108/108 [00:14<00:00,  7.41it/s]\n"
          ]
        },
        {
          "output_type": "stream",
          "name": "stdout",
          "text": [
            "[Epoch 35] Train Loss: 185.8225 | Val Loss: 46.2528 | Acc: 0.3943 | Precision: 0.3987 | Recall: 0.3987\n"
          ]
        },
        {
          "output_type": "stream",
          "name": "stderr",
          "text": [
            "100%|██████████| 108/108 [00:14<00:00,  7.35it/s]\n"
          ]
        },
        {
          "output_type": "stream",
          "name": "stdout",
          "text": [
            "[Epoch 36] Train Loss: 180.0456 | Val Loss: 44.8812 | Acc: 0.4216 | Precision: 0.4258 | Recall: 0.4258\n"
          ]
        },
        {
          "output_type": "stream",
          "name": "stderr",
          "text": [
            "100%|██████████| 108/108 [00:14<00:00,  7.43it/s]\n"
          ]
        },
        {
          "output_type": "stream",
          "name": "stdout",
          "text": [
            "[Epoch 37] Train Loss: 174.2180 | Val Loss: 44.5434 | Acc: 0.4296 | Precision: 0.4319 | Recall: 0.4319\n"
          ]
        },
        {
          "output_type": "stream",
          "name": "stderr",
          "text": [
            "100%|██████████| 108/108 [00:14<00:00,  7.40it/s]\n"
          ]
        },
        {
          "output_type": "stream",
          "name": "stdout",
          "text": [
            "[Epoch 38] Train Loss: 168.7266 | Val Loss: 42.7047 | Acc: 0.4459 | Precision: 0.4495 | Recall: 0.4495\n"
          ]
        },
        {
          "output_type": "stream",
          "name": "stderr",
          "text": [
            "100%|██████████| 108/108 [00:14<00:00,  7.39it/s]\n"
          ]
        },
        {
          "output_type": "stream",
          "name": "stdout",
          "text": [
            "[Epoch 39] Train Loss: 163.4101 | Val Loss: 42.4339 | Acc: 0.4456 | Precision: 0.4478 | Recall: 0.4478\n"
          ]
        },
        {
          "output_type": "stream",
          "name": "stderr",
          "text": [
            "100%|██████████| 108/108 [00:14<00:00,  7.39it/s]\n"
          ]
        },
        {
          "output_type": "stream",
          "name": "stdout",
          "text": [
            "[Epoch 40] Train Loss: 157.3030 | Val Loss: 41.0906 | Acc: 0.4662 | Precision: 0.4717 | Recall: 0.4717\n"
          ]
        },
        {
          "output_type": "stream",
          "name": "stderr",
          "text": [
            "100%|██████████| 108/108 [00:14<00:00,  7.28it/s]\n"
          ]
        },
        {
          "output_type": "stream",
          "name": "stdout",
          "text": [
            "[Epoch 41] Train Loss: 150.5590 | Val Loss: 37.8649 | Acc: 0.5165 | Precision: 0.5210 | Recall: 0.5210\n"
          ]
        },
        {
          "output_type": "stream",
          "name": "stderr",
          "text": [
            "100%|██████████| 108/108 [00:14<00:00,  7.51it/s]\n"
          ]
        },
        {
          "output_type": "stream",
          "name": "stdout",
          "text": [
            "[Epoch 42] Train Loss: 144.2752 | Val Loss: 38.4844 | Acc: 0.5055 | Precision: 0.5092 | Recall: 0.5092\n",
            "  🔁 No improvement (1/15)\n"
          ]
        },
        {
          "output_type": "stream",
          "name": "stderr",
          "text": [
            "100%|██████████| 108/108 [00:14<00:00,  7.43it/s]\n"
          ]
        },
        {
          "output_type": "stream",
          "name": "stdout",
          "text": [
            "[Epoch 43] Train Loss: 138.7733 | Val Loss: 36.5202 | Acc: 0.5295 | Precision: 0.5316 | Recall: 0.5316\n"
          ]
        },
        {
          "output_type": "stream",
          "name": "stderr",
          "text": [
            "100%|██████████| 108/108 [00:14<00:00,  7.48it/s]\n"
          ]
        },
        {
          "output_type": "stream",
          "name": "stdout",
          "text": [
            "[Epoch 44] Train Loss: 130.3403 | Val Loss: 33.3691 | Acc: 0.5734 | Precision: 0.5757 | Recall: 0.5757\n"
          ]
        },
        {
          "output_type": "stream",
          "name": "stderr",
          "text": [
            "100%|██████████| 108/108 [00:14<00:00,  7.50it/s]\n"
          ]
        },
        {
          "output_type": "stream",
          "name": "stdout",
          "text": [
            "[Epoch 45] Train Loss: 125.8897 | Val Loss: 32.6948 | Acc: 0.5921 | Precision: 0.5945 | Recall: 0.5945\n"
          ]
        },
        {
          "output_type": "stream",
          "name": "stderr",
          "text": [
            "100%|██████████| 108/108 [00:14<00:00,  7.36it/s]\n"
          ]
        },
        {
          "output_type": "stream",
          "name": "stdout",
          "text": [
            "[Epoch 46] Train Loss: 120.9072 | Val Loss: 31.3866 | Acc: 0.6184 | Precision: 0.6194 | Recall: 0.6194\n"
          ]
        },
        {
          "output_type": "stream",
          "name": "stderr",
          "text": [
            "100%|██████████| 108/108 [00:14<00:00,  7.37it/s]\n"
          ]
        },
        {
          "output_type": "stream",
          "name": "stdout",
          "text": [
            "[Epoch 47] Train Loss: 114.5054 | Val Loss: 30.3798 | Acc: 0.6180 | Precision: 0.6205 | Recall: 0.6205\n"
          ]
        },
        {
          "output_type": "stream",
          "name": "stderr",
          "text": [
            "100%|██████████| 108/108 [00:14<00:00,  7.29it/s]\n"
          ]
        },
        {
          "output_type": "stream",
          "name": "stdout",
          "text": [
            "[Epoch 48] Train Loss: 107.7863 | Val Loss: 30.9404 | Acc: 0.6161 | Precision: 0.6185 | Recall: 0.6185\n",
            "  🔁 No improvement (1/15)\n"
          ]
        },
        {
          "output_type": "stream",
          "name": "stderr",
          "text": [
            "100%|██████████| 108/108 [00:14<00:00,  7.53it/s]\n"
          ]
        },
        {
          "output_type": "stream",
          "name": "stdout",
          "text": [
            "[Epoch 49] Train Loss: 101.9355 | Val Loss: 28.1675 | Acc: 0.6593 | Precision: 0.6611 | Recall: 0.6611\n"
          ]
        },
        {
          "output_type": "stream",
          "name": "stderr",
          "text": [
            "100%|██████████| 108/108 [00:14<00:00,  7.38it/s]\n"
          ]
        },
        {
          "output_type": "stream",
          "name": "stdout",
          "text": [
            "[Epoch 50] Train Loss: 97.0103 | Val Loss: 27.5698 | Acc: 0.6670 | Precision: 0.6683 | Recall: 0.6683\n"
          ]
        },
        {
          "output_type": "stream",
          "name": "stderr",
          "text": [
            "100%|██████████| 108/108 [00:14<00:00,  7.41it/s]\n"
          ]
        },
        {
          "output_type": "stream",
          "name": "stdout",
          "text": [
            "[Epoch 51] Train Loss: 90.1370 | Val Loss: 25.7900 | Acc: 0.6863 | Precision: 0.6881 | Recall: 0.6881\n"
          ]
        },
        {
          "output_type": "stream",
          "name": "stderr",
          "text": [
            "100%|██████████| 108/108 [00:14<00:00,  7.41it/s]\n"
          ]
        },
        {
          "output_type": "stream",
          "name": "stdout",
          "text": [
            "[Epoch 52] Train Loss: 86.4019 | Val Loss: 25.2581 | Acc: 0.7010 | Precision: 0.7033 | Recall: 0.7033\n"
          ]
        },
        {
          "output_type": "stream",
          "name": "stderr",
          "text": [
            "100%|██████████| 108/108 [00:14<00:00,  7.45it/s]\n"
          ]
        },
        {
          "output_type": "stream",
          "name": "stdout",
          "text": [
            "[Epoch 53] Train Loss: 85.5568 | Val Loss: 23.3527 | Acc: 0.7189 | Precision: 0.7213 | Recall: 0.7213\n"
          ]
        },
        {
          "output_type": "stream",
          "name": "stderr",
          "text": [
            "100%|██████████| 108/108 [00:14<00:00,  7.42it/s]\n"
          ]
        },
        {
          "output_type": "stream",
          "name": "stdout",
          "text": [
            "[Epoch 54] Train Loss: 76.0407 | Val Loss: 25.1889 | Acc: 0.6963 | Precision: 0.6977 | Recall: 0.6977\n",
            "  🔁 No improvement (1/15)\n"
          ]
        },
        {
          "output_type": "stream",
          "name": "stderr",
          "text": [
            "100%|██████████| 108/108 [00:14<00:00,  7.45it/s]\n"
          ]
        },
        {
          "output_type": "stream",
          "name": "stdout",
          "text": [
            "[Epoch 55] Train Loss: 87.9091 | Val Loss: 23.7303 | Acc: 0.7146 | Precision: 0.7156 | Recall: 0.7156\n",
            "  🔁 No improvement (2/15)\n"
          ]
        },
        {
          "output_type": "stream",
          "name": "stderr",
          "text": [
            "100%|██████████| 108/108 [00:14<00:00,  7.48it/s]\n"
          ]
        },
        {
          "output_type": "stream",
          "name": "stdout",
          "text": [
            "[Epoch 56] Train Loss: 74.7609 | Val Loss: 22.0889 | Acc: 0.7356 | Precision: 0.7381 | Recall: 0.7381\n"
          ]
        },
        {
          "output_type": "stream",
          "name": "stderr",
          "text": [
            "100%|██████████| 108/108 [00:14<00:00,  7.42it/s]\n"
          ]
        },
        {
          "output_type": "stream",
          "name": "stdout",
          "text": [
            "[Epoch 57] Train Loss: 64.9125 | Val Loss: 20.5475 | Acc: 0.7532 | Precision: 0.7553 | Recall: 0.7553\n"
          ]
        },
        {
          "output_type": "stream",
          "name": "stderr",
          "text": [
            "100%|██████████| 108/108 [00:14<00:00,  7.45it/s]\n"
          ]
        },
        {
          "output_type": "stream",
          "name": "stdout",
          "text": [
            "[Epoch 58] Train Loss: 58.9119 | Val Loss: 19.7778 | Acc: 0.7672 | Precision: 0.7688 | Recall: 0.7688\n"
          ]
        },
        {
          "output_type": "stream",
          "name": "stderr",
          "text": [
            "100%|██████████| 108/108 [00:14<00:00,  7.40it/s]\n"
          ]
        },
        {
          "output_type": "stream",
          "name": "stdout",
          "text": [
            "[Epoch 59] Train Loss: 55.9504 | Val Loss: 19.9897 | Acc: 0.7619 | Precision: 0.7642 | Recall: 0.7642\n",
            "  🔁 No improvement (1/15)\n"
          ]
        },
        {
          "output_type": "stream",
          "name": "stderr",
          "text": [
            "100%|██████████| 108/108 [00:14<00:00,  7.38it/s]\n"
          ]
        },
        {
          "output_type": "stream",
          "name": "stdout",
          "text": [
            "[Epoch 60] Train Loss: 55.2023 | Val Loss: 20.9303 | Acc: 0.7529 | Precision: 0.7547 | Recall: 0.7547\n",
            "  🔁 No improvement (2/15)\n"
          ]
        },
        {
          "output_type": "stream",
          "name": "stderr",
          "text": [
            "100%|██████████| 108/108 [00:14<00:00,  7.45it/s]\n"
          ]
        },
        {
          "output_type": "stream",
          "name": "stdout",
          "text": [
            "[Epoch 61] Train Loss: 50.5970 | Val Loss: 19.2262 | Acc: 0.7786 | Precision: 0.7793 | Recall: 0.7793\n"
          ]
        },
        {
          "output_type": "stream",
          "name": "stderr",
          "text": [
            "100%|██████████| 108/108 [00:15<00:00,  7.09it/s]\n"
          ]
        },
        {
          "output_type": "stream",
          "name": "stdout",
          "text": [
            "[Epoch 62] Train Loss: 45.3053 | Val Loss: 18.5428 | Acc: 0.7872 | Precision: 0.7885 | Recall: 0.7885\n"
          ]
        },
        {
          "output_type": "stream",
          "name": "stderr",
          "text": [
            "100%|██████████| 108/108 [00:14<00:00,  7.33it/s]\n"
          ]
        },
        {
          "output_type": "stream",
          "name": "stdout",
          "text": [
            "[Epoch 63] Train Loss: 43.8875 | Val Loss: 20.4786 | Acc: 0.7682 | Precision: 0.7693 | Recall: 0.7693\n",
            "  🔁 No improvement (1/15)\n"
          ]
        },
        {
          "output_type": "stream",
          "name": "stderr",
          "text": [
            "100%|██████████| 108/108 [00:14<00:00,  7.41it/s]\n"
          ]
        },
        {
          "output_type": "stream",
          "name": "stdout",
          "text": [
            "[Epoch 64] Train Loss: 46.0118 | Val Loss: 17.3075 | Acc: 0.8029 | Precision: 0.8045 | Recall: 0.8045\n"
          ]
        },
        {
          "output_type": "stream",
          "name": "stderr",
          "text": [
            "100%|██████████| 108/108 [00:14<00:00,  7.43it/s]\n"
          ]
        },
        {
          "output_type": "stream",
          "name": "stdout",
          "text": [
            "[Epoch 65] Train Loss: 38.4334 | Val Loss: 18.6446 | Acc: 0.7965 | Precision: 0.7981 | Recall: 0.7981\n",
            "  🔁 No improvement (1/15)\n"
          ]
        },
        {
          "output_type": "stream",
          "name": "stderr",
          "text": [
            "100%|██████████| 108/108 [00:14<00:00,  7.52it/s]\n"
          ]
        },
        {
          "output_type": "stream",
          "name": "stdout",
          "text": [
            "[Epoch 66] Train Loss: 36.0631 | Val Loss: 17.9513 | Acc: 0.7992 | Precision: 0.8027 | Recall: 0.8027\n",
            "  🔁 No improvement (2/15)\n"
          ]
        },
        {
          "output_type": "stream",
          "name": "stderr",
          "text": [
            "100%|██████████| 108/108 [00:14<00:00,  7.49it/s]\n"
          ]
        },
        {
          "output_type": "stream",
          "name": "stdout",
          "text": [
            "[Epoch 67] Train Loss: 32.8680 | Val Loss: 17.7890 | Acc: 0.8012 | Precision: 0.8025 | Recall: 0.8025\n",
            "  🔁 No improvement (3/15)\n"
          ]
        },
        {
          "output_type": "stream",
          "name": "stderr",
          "text": [
            "100%|██████████| 108/108 [00:14<00:00,  7.55it/s]\n"
          ]
        },
        {
          "output_type": "stream",
          "name": "stdout",
          "text": [
            "[Epoch 68] Train Loss: 31.9689 | Val Loss: 17.2061 | Acc: 0.8129 | Precision: 0.8139 | Recall: 0.8139\n"
          ]
        },
        {
          "output_type": "stream",
          "name": "stderr",
          "text": [
            "100%|██████████| 108/108 [00:14<00:00,  7.50it/s]\n"
          ]
        },
        {
          "output_type": "stream",
          "name": "stdout",
          "text": [
            "[Epoch 69] Train Loss: 30.9306 | Val Loss: 16.5358 | Acc: 0.8099 | Precision: 0.8120 | Recall: 0.8120\n"
          ]
        },
        {
          "output_type": "stream",
          "name": "stderr",
          "text": [
            "100%|██████████| 108/108 [00:14<00:00,  7.60it/s]\n"
          ]
        },
        {
          "output_type": "stream",
          "name": "stdout",
          "text": [
            "[Epoch 70] Train Loss: 27.9625 | Val Loss: 16.6423 | Acc: 0.8185 | Precision: 0.8196 | Recall: 0.8196\n",
            "  🔁 No improvement (1/15)\n"
          ]
        },
        {
          "output_type": "stream",
          "name": "stderr",
          "text": [
            "100%|██████████| 108/108 [00:14<00:00,  7.46it/s]\n"
          ]
        },
        {
          "output_type": "stream",
          "name": "stdout",
          "text": [
            "[Epoch 71] Train Loss: 31.6675 | Val Loss: 17.0534 | Acc: 0.8202 | Precision: 0.8205 | Recall: 0.8205\n",
            "  🔁 No improvement (2/15)\n"
          ]
        },
        {
          "output_type": "stream",
          "name": "stderr",
          "text": [
            "100%|██████████| 108/108 [00:14<00:00,  7.45it/s]\n"
          ]
        },
        {
          "output_type": "stream",
          "name": "stdout",
          "text": [
            "[Epoch 72] Train Loss: 26.8862 | Val Loss: 16.1289 | Acc: 0.8215 | Precision: 0.8232 | Recall: 0.8232\n"
          ]
        },
        {
          "output_type": "stream",
          "name": "stderr",
          "text": [
            "100%|██████████| 108/108 [00:14<00:00,  7.59it/s]\n"
          ]
        },
        {
          "output_type": "stream",
          "name": "stdout",
          "text": [
            "[Epoch 73] Train Loss: 26.4004 | Val Loss: 16.6176 | Acc: 0.8195 | Precision: 0.8206 | Recall: 0.8206\n",
            "  🔁 No improvement (1/15)\n"
          ]
        },
        {
          "output_type": "stream",
          "name": "stderr",
          "text": [
            "100%|██████████| 108/108 [00:14<00:00,  7.58it/s]\n"
          ]
        },
        {
          "output_type": "stream",
          "name": "stdout",
          "text": [
            "[Epoch 74] Train Loss: 22.4040 | Val Loss: 16.0602 | Acc: 0.8288 | Precision: 0.8299 | Recall: 0.8299\n"
          ]
        },
        {
          "output_type": "stream",
          "name": "stderr",
          "text": [
            "100%|██████████| 108/108 [00:14<00:00,  7.53it/s]\n"
          ]
        },
        {
          "output_type": "stream",
          "name": "stdout",
          "text": [
            "[Epoch 75] Train Loss: 18.9769 | Val Loss: 16.7820 | Acc: 0.8245 | Precision: 0.8251 | Recall: 0.8251\n",
            "  🔁 No improvement (1/15)\n"
          ]
        },
        {
          "output_type": "stream",
          "name": "stderr",
          "text": [
            "100%|██████████| 108/108 [00:14<00:00,  7.46it/s]\n"
          ]
        },
        {
          "output_type": "stream",
          "name": "stdout",
          "text": [
            "[Epoch 76] Train Loss: 20.0563 | Val Loss: 15.9403 | Acc: 0.8262 | Precision: 0.8284 | Recall: 0.8284\n"
          ]
        },
        {
          "output_type": "stream",
          "name": "stderr",
          "text": [
            "100%|██████████| 108/108 [00:14<00:00,  7.60it/s]\n"
          ]
        },
        {
          "output_type": "stream",
          "name": "stdout",
          "text": [
            "[Epoch 77] Train Loss: 18.4752 | Val Loss: 15.9033 | Acc: 0.8388 | Precision: 0.8397 | Recall: 0.8397\n"
          ]
        },
        {
          "output_type": "stream",
          "name": "stderr",
          "text": [
            "100%|██████████| 108/108 [00:14<00:00,  7.45it/s]\n"
          ]
        },
        {
          "output_type": "stream",
          "name": "stdout",
          "text": [
            "[Epoch 78] Train Loss: 16.3596 | Val Loss: 16.6360 | Acc: 0.8298 | Precision: 0.8312 | Recall: 0.8312\n",
            "  🔁 No improvement (1/15)\n"
          ]
        },
        {
          "output_type": "stream",
          "name": "stderr",
          "text": [
            "100%|██████████| 108/108 [00:14<00:00,  7.60it/s]\n"
          ]
        },
        {
          "output_type": "stream",
          "name": "stdout",
          "text": [
            "[Epoch 79] Train Loss: 16.8926 | Val Loss: 16.0652 | Acc: 0.8295 | Precision: 0.8312 | Recall: 0.8312\n",
            "  🔁 No improvement (2/15)\n"
          ]
        },
        {
          "output_type": "stream",
          "name": "stderr",
          "text": [
            "100%|██████████| 108/108 [00:14<00:00,  7.50it/s]\n"
          ]
        },
        {
          "output_type": "stream",
          "name": "stdout",
          "text": [
            "[Epoch 80] Train Loss: 18.5042 | Val Loss: 16.6993 | Acc: 0.8298 | Precision: 0.8312 | Recall: 0.8312\n",
            "  🔁 No improvement (3/15)\n"
          ]
        },
        {
          "output_type": "stream",
          "name": "stderr",
          "text": [
            "100%|██████████| 108/108 [00:14<00:00,  7.49it/s]\n"
          ]
        },
        {
          "output_type": "stream",
          "name": "stdout",
          "text": [
            "[Epoch 81] Train Loss: 14.6327 | Val Loss: 16.6467 | Acc: 0.8332 | Precision: 0.8346 | Recall: 0.8346\n",
            "  🔁 No improvement (4/15)\n"
          ]
        },
        {
          "output_type": "stream",
          "name": "stderr",
          "text": [
            "100%|██████████| 108/108 [00:14<00:00,  7.43it/s]\n"
          ]
        },
        {
          "output_type": "stream",
          "name": "stdout",
          "text": [
            "[Epoch 82] Train Loss: 13.7253 | Val Loss: 15.9727 | Acc: 0.8428 | Precision: 0.8439 | Recall: 0.8439\n",
            "  🔁 No improvement (5/15)\n"
          ]
        },
        {
          "output_type": "stream",
          "name": "stderr",
          "text": [
            "100%|██████████| 108/108 [00:14<00:00,  7.53it/s]\n"
          ]
        },
        {
          "output_type": "stream",
          "name": "stdout",
          "text": [
            "[Epoch 83] Train Loss: 14.7417 | Val Loss: 15.6866 | Acc: 0.8478 | Precision: 0.8492 | Recall: 0.8492\n"
          ]
        },
        {
          "output_type": "stream",
          "name": "stderr",
          "text": [
            "100%|██████████| 108/108 [00:14<00:00,  7.49it/s]\n"
          ]
        },
        {
          "output_type": "stream",
          "name": "stdout",
          "text": [
            "[Epoch 84] Train Loss: 14.9898 | Val Loss: 16.6741 | Acc: 0.8312 | Precision: 0.8323 | Recall: 0.8323\n",
            "  🔁 No improvement (1/15)\n"
          ]
        },
        {
          "output_type": "stream",
          "name": "stderr",
          "text": [
            "100%|██████████| 108/108 [00:14<00:00,  7.43it/s]\n"
          ]
        },
        {
          "output_type": "stream",
          "name": "stdout",
          "text": [
            "[Epoch 85] Train Loss: 12.9558 | Val Loss: 15.6493 | Acc: 0.8442 | Precision: 0.8450 | Recall: 0.8450\n"
          ]
        },
        {
          "output_type": "stream",
          "name": "stderr",
          "text": [
            "100%|██████████| 108/108 [00:14<00:00,  7.45it/s]\n"
          ]
        },
        {
          "output_type": "stream",
          "name": "stdout",
          "text": [
            "[Epoch 86] Train Loss: 12.3347 | Val Loss: 17.3740 | Acc: 0.8305 | Precision: 0.8324 | Recall: 0.8324\n",
            "  🔁 No improvement (1/15)\n"
          ]
        },
        {
          "output_type": "stream",
          "name": "stderr",
          "text": [
            "100%|██████████| 108/108 [00:14<00:00,  7.43it/s]\n"
          ]
        },
        {
          "output_type": "stream",
          "name": "stdout",
          "text": [
            "[Epoch 87] Train Loss: 12.1923 | Val Loss: 16.4166 | Acc: 0.8378 | Precision: 0.8395 | Recall: 0.8395\n",
            "  🔁 No improvement (2/15)\n"
          ]
        },
        {
          "output_type": "stream",
          "name": "stderr",
          "text": [
            "100%|██████████| 108/108 [00:14<00:00,  7.51it/s]\n"
          ]
        },
        {
          "output_type": "stream",
          "name": "stdout",
          "text": [
            "[Epoch 88] Train Loss: 16.1196 | Val Loss: 16.1397 | Acc: 0.8372 | Precision: 0.8386 | Recall: 0.8386\n",
            "  🔁 No improvement (3/15)\n"
          ]
        },
        {
          "output_type": "stream",
          "name": "stderr",
          "text": [
            "100%|██████████| 108/108 [00:14<00:00,  7.28it/s]\n"
          ]
        },
        {
          "output_type": "stream",
          "name": "stdout",
          "text": [
            "[Epoch 89] Train Loss: 11.3116 | Val Loss: 15.2419 | Acc: 0.8535 | Precision: 0.8546 | Recall: 0.8546\n"
          ]
        },
        {
          "output_type": "stream",
          "name": "stderr",
          "text": [
            "100%|██████████| 108/108 [00:14<00:00,  7.44it/s]\n"
          ]
        },
        {
          "output_type": "stream",
          "name": "stdout",
          "text": [
            "[Epoch 90] Train Loss: 11.0095 | Val Loss: 17.6167 | Acc: 0.8292 | Precision: 0.8306 | Recall: 0.8306\n",
            "  🔁 No improvement (1/15)\n"
          ]
        },
        {
          "output_type": "stream",
          "name": "stderr",
          "text": [
            "100%|██████████| 108/108 [00:14<00:00,  7.59it/s]\n"
          ]
        },
        {
          "output_type": "stream",
          "name": "stdout",
          "text": [
            "[Epoch 91] Train Loss: 10.3651 | Val Loss: 17.5940 | Acc: 0.8355 | Precision: 0.8369 | Recall: 0.8369\n",
            "  🔁 No improvement (2/15)\n"
          ]
        },
        {
          "output_type": "stream",
          "name": "stderr",
          "text": [
            "100%|██████████| 108/108 [00:14<00:00,  7.49it/s]\n"
          ]
        },
        {
          "output_type": "stream",
          "name": "stdout",
          "text": [
            "[Epoch 92] Train Loss: 19.1929 | Val Loss: 16.3128 | Acc: 0.8398 | Precision: 0.8407 | Recall: 0.8407\n",
            "  🔁 No improvement (3/15)\n"
          ]
        },
        {
          "output_type": "stream",
          "name": "stderr",
          "text": [
            "100%|██████████| 108/108 [00:14<00:00,  7.56it/s]\n"
          ]
        },
        {
          "output_type": "stream",
          "name": "stdout",
          "text": [
            "[Epoch 93] Train Loss: 17.1206 | Val Loss: 16.1574 | Acc: 0.8408 | Precision: 0.8419 | Recall: 0.8419\n",
            "  🔁 No improvement (4/15)\n"
          ]
        },
        {
          "output_type": "stream",
          "name": "stderr",
          "text": [
            "100%|██████████| 108/108 [00:14<00:00,  7.59it/s]\n"
          ]
        },
        {
          "output_type": "stream",
          "name": "stdout",
          "text": [
            "[Epoch 94] Train Loss: 9.8562 | Val Loss: 15.0797 | Acc: 0.8548 | Precision: 0.8557 | Recall: 0.8557\n"
          ]
        },
        {
          "output_type": "stream",
          "name": "stderr",
          "text": [
            "100%|██████████| 108/108 [00:14<00:00,  7.56it/s]\n"
          ]
        },
        {
          "output_type": "stream",
          "name": "stdout",
          "text": [
            "[Epoch 95] Train Loss: 8.2745 | Val Loss: 16.3086 | Acc: 0.8488 | Precision: 0.8497 | Recall: 0.8497\n",
            "  🔁 No improvement (1/15)\n"
          ]
        },
        {
          "output_type": "stream",
          "name": "stderr",
          "text": [
            "100%|██████████| 108/108 [00:14<00:00,  7.50it/s]\n"
          ]
        },
        {
          "output_type": "stream",
          "name": "stdout",
          "text": [
            "[Epoch 96] Train Loss: 8.2246 | Val Loss: 15.5704 | Acc: 0.8525 | Precision: 0.8542 | Recall: 0.8542\n",
            "  🔁 No improvement (2/15)\n"
          ]
        },
        {
          "output_type": "stream",
          "name": "stderr",
          "text": [
            "100%|██████████| 108/108 [00:14<00:00,  7.44it/s]\n"
          ]
        },
        {
          "output_type": "stream",
          "name": "stdout",
          "text": [
            "[Epoch 97] Train Loss: 7.3096 | Val Loss: 16.2834 | Acc: 0.8535 | Precision: 0.8543 | Recall: 0.8543\n",
            "  🔁 No improvement (3/15)\n"
          ]
        },
        {
          "output_type": "stream",
          "name": "stderr",
          "text": [
            "100%|██████████| 108/108 [00:14<00:00,  7.51it/s]\n"
          ]
        },
        {
          "output_type": "stream",
          "name": "stdout",
          "text": [
            "[Epoch 98] Train Loss: 7.0306 | Val Loss: 15.7218 | Acc: 0.8575 | Precision: 0.8583 | Recall: 0.8583\n",
            "  🔁 No improvement (4/15)\n"
          ]
        },
        {
          "output_type": "stream",
          "name": "stderr",
          "text": [
            "100%|██████████| 108/108 [00:14<00:00,  7.47it/s]\n"
          ]
        },
        {
          "output_type": "stream",
          "name": "stdout",
          "text": [
            "[Epoch 99] Train Loss: 6.1305 | Val Loss: 17.1607 | Acc: 0.8498 | Precision: 0.8507 | Recall: 0.8507\n",
            "  🔁 No improvement (5/15)\n"
          ]
        },
        {
          "output_type": "stream",
          "name": "stderr",
          "text": [
            "100%|██████████| 108/108 [00:14<00:00,  7.21it/s]\n"
          ]
        },
        {
          "output_type": "stream",
          "name": "stdout",
          "text": [
            "[Epoch 100] Train Loss: 7.6839 | Val Loss: 15.8203 | Acc: 0.8508 | Precision: 0.8520 | Recall: 0.8520\n",
            "  🔁 No improvement (6/15)\n"
          ]
        },
        {
          "output_type": "stream",
          "name": "stderr",
          "text": [
            "100%|██████████| 108/108 [00:14<00:00,  7.39it/s]\n"
          ]
        },
        {
          "output_type": "stream",
          "name": "stdout",
          "text": [
            "[Epoch 101] Train Loss: 5.5982 | Val Loss: 15.5173 | Acc: 0.8571 | Precision: 0.8586 | Recall: 0.8586\n",
            "  🔁 No improvement (7/15)\n"
          ]
        },
        {
          "output_type": "stream",
          "name": "stderr",
          "text": [
            "100%|██████████| 108/108 [00:14<00:00,  7.46it/s]\n"
          ]
        },
        {
          "output_type": "stream",
          "name": "stdout",
          "text": [
            "[Epoch 102] Train Loss: 4.6055 | Val Loss: 15.6211 | Acc: 0.8661 | Precision: 0.8664 | Recall: 0.8664\n",
            "  🔁 No improvement (8/15)\n"
          ]
        },
        {
          "output_type": "stream",
          "name": "stderr",
          "text": [
            "100%|██████████| 108/108 [00:14<00:00,  7.26it/s]\n"
          ]
        },
        {
          "output_type": "stream",
          "name": "stdout",
          "text": [
            "[Epoch 103] Train Loss: 4.0581 | Val Loss: 15.7337 | Acc: 0.8585 | Precision: 0.8599 | Recall: 0.8599\n",
            "  🔁 No improvement (9/15)\n"
          ]
        },
        {
          "output_type": "stream",
          "name": "stderr",
          "text": [
            "100%|██████████| 108/108 [00:14<00:00,  7.53it/s]\n"
          ]
        },
        {
          "output_type": "stream",
          "name": "stdout",
          "text": [
            "[Epoch 104] Train Loss: 3.4399 | Val Loss: 15.6246 | Acc: 0.8618 | Precision: 0.8624 | Recall: 0.8624\n",
            "  🔁 No improvement (10/15)\n"
          ]
        },
        {
          "output_type": "stream",
          "name": "stderr",
          "text": [
            "100%|██████████| 108/108 [00:14<00:00,  7.53it/s]\n"
          ]
        },
        {
          "output_type": "stream",
          "name": "stdout",
          "text": [
            "[Epoch 105] Train Loss: 4.7072 | Val Loss: 15.9078 | Acc: 0.8541 | Precision: 0.8553 | Recall: 0.8553\n",
            "  🔁 No improvement (11/15)\n"
          ]
        },
        {
          "output_type": "stream",
          "name": "stderr",
          "text": [
            "100%|██████████| 108/108 [00:14<00:00,  7.29it/s]\n"
          ]
        },
        {
          "output_type": "stream",
          "name": "stdout",
          "text": [
            "[Epoch 106] Train Loss: 5.3858 | Val Loss: 15.5084 | Acc: 0.8625 | Precision: 0.8628 | Recall: 0.8628\n",
            "  🔁 No improvement (12/15)\n"
          ]
        },
        {
          "output_type": "stream",
          "name": "stderr",
          "text": [
            "100%|██████████| 108/108 [00:14<00:00,  7.34it/s]\n"
          ]
        },
        {
          "output_type": "stream",
          "name": "stdout",
          "text": [
            "[Epoch 107] Train Loss: 3.4713 | Val Loss: 15.9047 | Acc: 0.8628 | Precision: 0.8634 | Recall: 0.8634\n",
            "  🔁 No improvement (13/15)\n"
          ]
        },
        {
          "output_type": "stream",
          "name": "stderr",
          "text": [
            "100%|██████████| 108/108 [00:14<00:00,  7.54it/s]\n"
          ]
        },
        {
          "output_type": "stream",
          "name": "stdout",
          "text": [
            "[Epoch 108] Train Loss: 2.7276 | Val Loss: 15.3191 | Acc: 0.8615 | Precision: 0.8618 | Recall: 0.8618\n",
            "  🔁 No improvement (14/15)\n"
          ]
        },
        {
          "output_type": "stream",
          "name": "stderr",
          "text": [
            "100%|██████████| 108/108 [00:14<00:00,  7.41it/s]\n"
          ]
        },
        {
          "output_type": "stream",
          "name": "stdout",
          "text": [
            "[Epoch 109] Train Loss: 2.6214 | Val Loss: 15.9162 | Acc: 0.8651 | Precision: 0.8657 | Recall: 0.8657\n",
            "  🔁 No improvement (15/15)\n",
            "🛑 Early stopping triggered\n"
          ]
        }
      ]
    },
    {
      "cell_type": "code",
      "source": [
        "model.eval()\n",
        "with torch.no_grad():\n",
        "    for i in range(30):\n",
        "        image, label_idx, label = dataset[i]\n",
        "        image = image.unsqueeze(0).to(device)\n",
        "        output = model(image)\n",
        "        pred_indices = output.argmax(dim=2)  # shape: (seq_len, batch_size)\n",
        "        pred_text = dataset.decode(pred_indices)\n",
        "        print(f\"[GT] {label} → [Pred] {pred_text}\")"
      ],
      "metadata": {
        "id": "CWb3Aq37eiUV",
        "outputId": "996dd42f-6d1d-4f8c-b29a-6f83a7f61a13",
        "colab": {
          "base_uri": "https://localhost:8080/"
        }
      },
      "execution_count": 12,
      "outputs": [
        {
          "output_type": "stream",
          "name": "stdout",
          "text": [
            "[GT] 01가0785 → [Pred] 01가0785\n",
            "[GT] 01가0865 → [Pred] 01가0864\n",
            "[GT] 01가1134 → [Pred] 01가1134\n",
            "[GT] 01가1134 → [Pred] 01가1134\n",
            "[GT] 01가1134 → [Pred] 01가1134\n",
            "[GT] 01가1134 → [Pred] 01가1134\n",
            "[GT] 01가1134 → [Pred] 01가1134\n",
            "[GT] 01가1366 → [Pred] 01가1366\n",
            "[GT] 01가1366 → [Pred] 01가1366\n",
            "[GT] 01가1705 → [Pred] 01가1705\n",
            "[GT] 01가2178 → [Pred] 01가2178\n",
            "[GT] 01가2178 → [Pred] 01가2178\n",
            "[GT] 01가2178 → [Pred] 01가2178\n",
            "[GT] 01가2178 → [Pred] 01가2178\n",
            "[GT] 01가2178 → [Pred] 01가2178\n",
            "[GT] 01가2178 → [Pred] 01가2178\n",
            "[GT] 01가2178 → [Pred] 01가2178\n",
            "[GT] 01가2178 → [Pred] 01가2178\n",
            "[GT] 01가2246 → [Pred] 01가2246\n",
            "[GT] 01가2319 → [Pred] 01가2319\n",
            "[GT] 01가2319 → [Pred] 01가2319\n",
            "[GT] 01가2512 → [Pred] 01가2512\n",
            "[GT] 01가2525 → [Pred] 01가2525\n",
            "[GT] 01가2567 → [Pred] 01가2567\n",
            "[GT] 01가2636 → [Pred] 01가2636\n",
            "[GT] 01가3005 → [Pred] 01가3005\n",
            "[GT] 01가3042 → [Pred] 01가3042\n",
            "[GT] 01가3315 → [Pred] 01가3315\n",
            "[GT] 01가3372 → [Pred] 01가3372\n",
            "[GT] 01가3372 → [Pred] 01가3372\n"
          ]
        }
      ]
    },
    {
      "cell_type": "code",
      "source": [
        "def ctc_decode(pred_indices, blank=0):\n",
        "    decoded = []\n",
        "    prev = None\n",
        "    for idx in pred_indices:\n",
        "        if idx != blank and idx != prev:\n",
        "            decoded.append(idx)\n",
        "        prev = idx\n",
        "    return decoded\n",
        "\n",
        "decoded_indices = ctc_decode(pred_indices[:, 0].tolist(), blank=0)\n",
        "print(\"Decoded indices:\", decoded_indices)"
      ],
      "metadata": {
        "colab": {
          "base_uri": "https://localhost:8080/"
        },
        "id": "S1PGjM1ReiW1",
        "outputId": "82e21e10-48c8-4282-cffe-1c0ae44c1fc0"
      },
      "execution_count": 13,
      "outputs": [
        {
          "output_type": "stream",
          "name": "stdout",
          "text": [
            "Decoded indices: [1, 2, 11, 4, 4, 8, 3]\n"
          ]
        }
      ]
    },
    {
      "cell_type": "code",
      "source": [
        "import matplotlib.pyplot as plt\n",
        "\n",
        "epochs = range(1, len(train_losses) + 1)\n",
        "\n",
        "plt.figure(figsize=(14, 8))\n",
        "\n",
        "# Loss\n",
        "plt.subplot(2, 2, 1)\n",
        "plt.plot(epochs, train_losses, label='Train Loss', marker='o')\n",
        "plt.plot(epochs, val_losses, label='Val Loss', marker='o')\n",
        "plt.title(\"Loss\")\n",
        "plt.xlabel(\"Epoch\")\n",
        "plt.ylabel(\"Loss\")\n",
        "plt.legend()\n",
        "plt.grid(True)\n",
        "\n",
        "# Accuracy\n",
        "plt.subplot(2, 2, 2)\n",
        "plt.plot(epochs, val_accuracies, label='Accuracy', color='green', marker='o')\n",
        "plt.title(\"Accuracy\")\n",
        "plt.xlabel(\"Epoch\")\n",
        "plt.ylabel(\"Accuracy\")\n",
        "plt.grid(True)\n",
        "\n",
        "# Precision\n",
        "plt.subplot(2, 2, 3)\n",
        "plt.plot(epochs, val_precisions, label='Precision', color='orange', marker='o')\n",
        "plt.title(\"Precision\")\n",
        "plt.xlabel(\"Epoch\")\n",
        "plt.ylabel(\"Precision\")\n",
        "plt.grid(True)\n",
        "\n",
        "# Recall\n",
        "plt.subplot(2, 2, 4)\n",
        "plt.plot(epochs, val_recalls, label='Recall', color='red', marker='o')\n",
        "plt.title(\"Recall\")\n",
        "plt.xlabel(\"Epoch\")\n",
        "plt.ylabel(\"Recall\")\n",
        "plt.grid(True)\n",
        "\n",
        "plt.tight_layout()\n",
        "plt.show()"
      ],
      "metadata": {
        "id": "A4RhMSBSeifz",
        "outputId": "d4e1ef48-905d-4ce3-ac75-2b439c64ee15",
        "colab": {
          "base_uri": "https://localhost:8080/",
          "height": 673
        }
      },
      "execution_count": 14,
      "outputs": [
        {
          "output_type": "display_data",
          "data": {
            "text/plain": [
              "<Figure size 1400x800 with 4 Axes>"
            ],
            "image/png": "[encoded data removed]"
          },
          "metadata": {}
        }
      ]
    },
    {
      "cell_type": "code",
      "source": [],
      "metadata": {
        "id": "b_Jw-6m4ei7W"
      },
      "execution_count": 11,
      "outputs": []
    },
    {
      "cell_type": "code",
      "source": [],
      "metadata": {
        "id": "5h3zFh-oei9_"
      },
      "execution_count": 11,
      "outputs": []
    },
    {
      "cell_type": "code",
      "source": [],
      "metadata": {
        "id": "jfsvdTEnei_0"
      },
      "execution_count": 11,
      "outputs": []
    }
  ]
}